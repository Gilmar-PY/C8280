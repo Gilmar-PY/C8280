{
  "nbformat": 4,
  "nbformat_minor": 0,
  "metadata": {
    "colab": {
      "provenance": [],
      "authorship_tag": "ABX9TyNbSWpe8B4s0Zr/QiXJCNKF",
      "include_colab_link": true
    },
    "kernelspec": {
      "name": "python3",
      "display_name": "Python 3"
    },
    "language_info": {
      "name": "python"
    }
  },
  "cells": [
    {
      "cell_type": "markdown",
      "metadata": {
        "id": "view-in-github",
        "colab_type": "text"
      },
      "source": [
        "<a href=\"https://colab.research.google.com/github/Gilmar-PY/C8280/blob/main/actividad1c.ipynb\" target=\"_parent\"><img src=\"https://colab.research.google.com/assets/colab-badge.svg\" alt=\"Open In Colab\"/></a>"
      ]
    },
    {
      "cell_type": "code",
      "execution_count": 1,
      "metadata": {
        "colab": {
          "base_uri": "https://localhost:8080/"
        },
        "id": "P4ETNABtTDk4",
        "outputId": "4a97256b-2172-43f9-86f4-ba34406ac463"
      },
      "outputs": [
        {
          "output_type": "stream",
          "name": "stdout",
          "text": [
            "--2023-06-11 02:35:18--  https://raw.githubusercontent.com/kapumota/Cuadernos/main/CLI/data.tsv\n",
            "Resolving raw.githubusercontent.com (raw.githubusercontent.com)... 185.199.110.133, 185.199.108.133, 185.199.109.133, ...\n",
            "Connecting to raw.githubusercontent.com (raw.githubusercontent.com)|185.199.110.133|:443... connected.\n",
            "HTTP request sent, awaiting response... 200 OK\n",
            "Length: 364976 (356K) [text/plain]\n",
            "Saving to: ‘data.tsv’\n",
            "\n",
            "data.tsv            100%[===================>] 356.42K  --.-KB/s    in 0.02s   \n",
            "\n",
            "2023-06-11 02:35:18 (16.2 MB/s) - ‘data.tsv’ saved [364976/364976]\n",
            "\n"
          ]
        }
      ],
      "source": [
        "!wget https://raw.githubusercontent.com/kapumota/Cuadernos/main/CLI/data.tsv\n"
      ]
    },
    {
      "cell_type": "markdown",
      "source": [
        "1 **Mire en la parte superior e inferior de data.tsventregado en esta actividad. Piensa en cómo se estructuran los datos. ¿Qué crees que significa cada columna? ¿Qué crees que significa cada fila?** **texto en negrita**\n",
        " \n",
        "\n",
        "1. **order_id**: identificador único asignado a cada pedido. Un mismo identificador de pedido puede estar presente en múltiples filas si el pedido incluye varios productos.  \n",
        "2. **quantity**: Representa la cantidad del ítem en particular en el pedido.\n",
        "\n",
        "\n",
        "**item_name**: Se refiere al nombre del artículo de comida que se ha pedido.\n",
        "\n",
        "3. **item_name**: Es el nombre del ítem de comida pedido.\n",
        "4. **choice_description**  Brinda información adicional sobre el producto, como los ingredientes específicos o modificaciones. Algunas entradas están etiquetadas como NULL, lo que puede sugerir que no se seleccionaron opciones o variaciones adicionales para ese producto.\n",
        "5.  **item_price**:Es el coste del producto. Probablemente represente el coste total del número de unidades ordenadas, no el coste por unidad.\n",
        "\n",
        "Cada línea de datos representa un producto de un pedido. Si un pedido incluye múltiples productos, cada uno de ellos aparecerá en su propia línea, pero todas compartirán el mismo order_id.\n",
        "\n",
        "\n"
      ],
      "metadata": {
        "id": "ZROSOeP9UDF-"
      }
    },
    {
      "cell_type": "markdown",
      "source": [
        "***1.-¿Cuántos pedidos parece haber?***"
      ],
      "metadata": {
        "id": "wK0E0FWpU7ag"
      }
    },
    {
      "cell_type": "code",
      "source": [
        "!awk -F'\\t' '{print $1}' data.tsv | sort | uniq | wc -l"
      ],
      "metadata": {
        "colab": {
          "base_uri": "https://localhost:8080/"
        },
        "id": "w5Y86C5DU-tA",
        "outputId": "c812d067-f7e9-4bce-8128-5638f1c2dea7"
      },
      "execution_count": 2,
      "outputs": [
        {
          "output_type": "stream",
          "name": "stdout",
          "text": [
            "1836\n"
          ]
        }
      ]
    },
    {
      "cell_type": "markdown",
      "source": [
        "***3.¿Cuántas líneas hay en este archivo?***"
      ],
      "metadata": {
        "id": "Htq2EKZcVQQ6"
      }
    },
    {
      "cell_type": "code",
      "source": [
        "!wc -l data.tsv"
      ],
      "metadata": {
        "colab": {
          "base_uri": "https://localhost:8080/"
        },
        "id": "b0AcgekuVWpR",
        "outputId": "78ea56a0-850b-450a-ded2-69e36fec5ed5"
      },
      "execution_count": 3,
      "outputs": [
        {
          "output_type": "stream",
          "name": "stdout",
          "text": [
            "4624 data.tsv\n"
          ]
        }
      ]
    },
    {
      "cell_type": "markdown",
      "source": [
        "***4.¿Qué burrito es más popular, steak o chicken?***\n",
        "\n",
        "los burritos mas comunes son:\n",
        "Steak Burrito:368\n",
        "Chicken Burrito:553\n"
      ],
      "metadata": {
        "id": "RlsyEImjVaGM"
      }
    },
    {
      "cell_type": "code",
      "source": [
        "\n",
        "!echo \"Steak Burrito:\"\n",
        "!grep \"Steak Burrito\" data.tsv | wc -l\n",
        "!echo \"Chicken Burrito:\"\n",
        "!grep \"Chicken Burrito\" data.tsv | wc -l"
      ],
      "metadata": {
        "colab": {
          "base_uri": "https://localhost:8080/"
        },
        "id": "gYB1iKLLVf5V",
        "outputId": "77cadd87-60e9-4b54-83c2-3e50c668cd03"
      },
      "execution_count": 12,
      "outputs": [
        {
          "output_type": "stream",
          "name": "stdout",
          "text": [
            "Steak_Burrito:\n",
            "0\n",
            "Chicken_Burrito:\n",
            "0\n"
          ]
        }
      ]
    },
    {
      "cell_type": "markdown",
      "source": [
        "***5.¿Los burritos de pollo suelen tener frijoles negros o frijoles pintos?***\n",
        "\n",
        " burritos que tienen pollo son los que tienen frijoles negros"
      ],
      "metadata": {
        "id": "hlCb2BhDVmR6"
      }
    },
    {
      "cell_type": "code",
      "source": [
        "!echo \"Black Beans:\"\n",
        "!grep \"Chicken Burrito\" data.tsv | grep \"Black Beans\" | wc -l\n",
        "!echo \"Pinto Beans:\"\n",
        "!grep \"Chicken Burrito\" data.tsv | grep \"Pinto Beans\" | wc -l"
      ],
      "metadata": {
        "colab": {
          "base_uri": "https://localhost:8080/"
        },
        "id": "mgMJuRC4VtSP",
        "outputId": "a56eb03d-0a2e-4808-84d1-37d643e62b88"
      },
      "execution_count": 5,
      "outputs": [
        {
          "output_type": "stream",
          "name": "stdout",
          "text": [
            "Black Beans:\n",
            "282\n",
            "Pinto Beans:\n",
            "105\n"
          ]
        }
      ]
    },
    {
      "cell_type": "markdown",
      "source": [
        "**6**.***Usa la línea de comandos para descubrir algo interesante sobre los datos dados.***\n",
        "\n",
        "aqui se busca el item mas caro"
      ],
      "metadata": {
        "id": "EhVxGVCzVyH9"
      }
    },
    {
      "cell_type": "code",
      "source": [
        "!sort -t$'\\t' -k5 -nr data.tsv | head -n 10\n"
      ],
      "metadata": {
        "colab": {
          "base_uri": "https://localhost:8080/"
        },
        "id": "loKDOvbTV62K",
        "outputId": "951d4e11-8996-4dc4-b3a3-e956bc6b8da4"
      },
      "execution_count": 13,
      "outputs": [
        {
          "output_type": "stream",
          "name": "stdout",
          "text": [
            "order_id\tquantity\titem_name\tchoice_description\titem_price\n",
            "999\t2\tCanned Soft Drink\t[Sprite]\t$2.50 \n",
            "999\t1\tSteak Burrito\t[Fresh Tomato Salsa, [Rice, Fajita Vegetables, Cheese, Lettuce]]\t$9.25 \n",
            "999\t1\tChicken Soft Tacos\t[Tomatillo Green Chili Salsa, [Rice, Fajita Vegetables, Cheese, Lettuce]]\t$8.75 \n",
            "999\t1\tChicken Crispy Tacos\t[Tomatillo Red Chili Salsa, [Rice, Fajita Vegetables, Cheese, Lettuce]]\t$8.75 \n",
            "998\t1\tChips and Fresh Tomato Salsa\tNULL\t$2.39 \n",
            "998\t1\tChicken Bowl\t[Tomatillo-Red Chili Salsa (Hot), [Rice, Cheese, Sour Cream, Lettuce]]\t$8.49 \n",
            "997\t2\tChicken Bowl\t[Roasted Chili Corn Salsa, [Rice, Black Beans, Cheese, Guacamole]]\t$22.50 \n",
            "996\t1\tSteak Burrito\t[Tomatillo Red Chili Salsa, [Fajita Vegetables, Rice, Black Beans, Pinto Beans, Cheese, Sour Cream, Guacamole, Lettuce]]\t$11.75 \n",
            "996\t1\tChicken Soft Tacos\t[Tomatillo Red Chili Salsa, [Fajita Vegetables, Black Beans, Cheese, Lettuce]]\t$8.75 \n"
          ]
        }
      ]
    },
    {
      "cell_type": "markdown",
      "source": [
        "este comando toma el archivo \"data.tsv\", lo ordena en función de los valores numéricos en la quinta columna (en orden descendente), y luego imprime las 10 primeras líneas de los resultados"
      ],
      "metadata": {
        "id": "R3G2CTklZXed"
      }
    },
    {
      "cell_type": "code",
      "source": [
        "!cut -f3 data.tsv | sort | uniq -c | sort -nr | head -n 5"
      ],
      "metadata": {
        "colab": {
          "base_uri": "https://localhost:8080/"
        },
        "id": "0uBdUII1aMMe",
        "outputId": "9849c6fa-0a32-4c09-d582-94d1a46e0cb0"
      },
      "execution_count": 14,
      "outputs": [
        {
          "output_type": "stream",
          "name": "stdout",
          "text": [
            "    726 Chicken Bowl\n",
            "    553 Chicken Burrito\n",
            "    479 Chips and Guacamole\n",
            "    368 Steak Burrito\n",
            "    301 Canned Soft Drink\n"
          ]
        }
      ]
    },
    {
      "cell_type": "markdown",
      "source": [
        " este comando muestra las 5 líneas más comunes (junto con sus frecuencias) en la tercera columna de data.tsv. Esas 5 líneas serán las que tengan los recuentos más altos"
      ],
      "metadata": {
        "id": "8rjMGKh8bSW4"
      }
    }
  ]
}