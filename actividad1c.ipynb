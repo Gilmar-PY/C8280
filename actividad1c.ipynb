{
  "nbformat": 4,
  "nbformat_minor": 0,
  "metadata": {
    "colab": {
      "provenance": [],
      "authorship_tag": "ABX9TyNySUT/zeF+hGCF07O2mVlg",
      "include_colab_link": true
    },
    "kernelspec": {
      "name": "python3",
      "display_name": "Python 3"
    },
    "language_info": {
      "name": "python"
    }
  },
  "cells": [
    {
      "cell_type": "markdown",
      "metadata": {
        "id": "view-in-github",
        "colab_type": "text"
      },
      "source": [
        "<a href=\"https://colab.research.google.com/github/Gilmar-PY/C8280/blob/main/actividad1c.ipynb\" target=\"_parent\"><img src=\"https://colab.research.google.com/assets/colab-badge.svg\" alt=\"Open In Colab\"/></a>"
      ]
    },
    {
      "cell_type": "code",
      "execution_count": 1,
      "metadata": {
        "colab": {
          "base_uri": "https://localhost:8080/"
        },
        "id": "P4ETNABtTDk4",
        "outputId": "4a97256b-2172-43f9-86f4-ba34406ac463"
      },
      "outputs": [
        {
          "output_type": "stream",
          "name": "stdout",
          "text": [
            "--2023-06-11 02:35:18--  https://raw.githubusercontent.com/kapumota/Cuadernos/main/CLI/data.tsv\n",
            "Resolving raw.githubusercontent.com (raw.githubusercontent.com)... 185.199.110.133, 185.199.108.133, 185.199.109.133, ...\n",
            "Connecting to raw.githubusercontent.com (raw.githubusercontent.com)|185.199.110.133|:443... connected.\n",
            "HTTP request sent, awaiting response... 200 OK\n",
            "Length: 364976 (356K) [text/plain]\n",
            "Saving to: ‘data.tsv’\n",
            "\n",
            "data.tsv            100%[===================>] 356.42K  --.-KB/s    in 0.02s   \n",
            "\n",
            "2023-06-11 02:35:18 (16.2 MB/s) - ‘data.tsv’ saved [364976/364976]\n",
            "\n"
          ]
        }
      ],
      "source": [
        "!wget https://raw.githubusercontent.com/kapumota/Cuadernos/main/CLI/data.tsv\n"
      ]
    },
    {
      "cell_type": "markdown",
      "source": [
        "1 **Mire en la parte superior e inferior de data.tsventregado en esta actividad. Piensa en cómo se estructuran los datos. ¿Qué crees que significa cada columna? ¿Qué crees que significa cada fila?**\n",
        " \n",
        "\n",
        "*   **order_id**: Este parece ser el ID de cada pedido. El mismo ID de pedido puede\n",
        "*   Elemento de la lista\n",
        "\n",
        "aparecer varias veces si el pedido consta de varios ítems.\n",
        "\n",
        "quantity: Representa la cantidad del ítem en particular en el pedido.\n",
        "item_name: Es el nombre del ítem de comida pedido.\n",
        "choice_description: Proporciona detalles adicionales sobre el ítem, como ingredientes específicos o variaciones. Algunas entradas están marcadas como NULL, lo que probablemente indica que no se especificaron opciones adicionales o variaciones para ese ítem.\n",
        "item_price: Representa el precio del ítem. Ten en cuenta que probablemente sea el precio total para la cantidad especificada (no el precio por unidad).\n",
        "Cada fila de datos representa un ítem de un pedido. Si un pedido consta de varios ítems, cada ítem aparece en una fila separada con el mismo order_id.\n"
      ],
      "metadata": {
        "id": "ZROSOeP9UDF-"
      }
    },
    {
      "cell_type": "markdown",
      "source": [
        "¿Cuántos pedidos parece haber?"
      ],
      "metadata": {
        "id": "wK0E0FWpU7ag"
      }
    },
    {
      "cell_type": "code",
      "source": [
        "!awk -F'\\t' '{print $1}' data.tsv | sort | uniq | wc -l"
      ],
      "metadata": {
        "colab": {
          "base_uri": "https://localhost:8080/"
        },
        "id": "w5Y86C5DU-tA",
        "outputId": "c812d067-f7e9-4bce-8128-5638f1c2dea7"
      },
      "execution_count": 2,
      "outputs": [
        {
          "output_type": "stream",
          "name": "stdout",
          "text": [
            "1836\n"
          ]
        }
      ]
    },
    {
      "cell_type": "markdown",
      "source": [
        "3.¿Cuántas líneas hay en este archivo?"
      ],
      "metadata": {
        "id": "Htq2EKZcVQQ6"
      }
    },
    {
      "cell_type": "code",
      "source": [
        "!wc -l data.tsv"
      ],
      "metadata": {
        "colab": {
          "base_uri": "https://localhost:8080/"
        },
        "id": "b0AcgekuVWpR",
        "outputId": "78ea56a0-850b-450a-ded2-69e36fec5ed5"
      },
      "execution_count": 3,
      "outputs": [
        {
          "output_type": "stream",
          "name": "stdout",
          "text": [
            "4624 data.tsv\n"
          ]
        }
      ]
    },
    {
      "cell_type": "markdown",
      "source": [
        "4.¿Qué burrito es más popular, steak o chicken?"
      ],
      "metadata": {
        "id": "RlsyEImjVaGM"
      }
    },
    {
      "cell_type": "code",
      "source": [
        "\n",
        "!echo \"Steak Burrito:\"\n",
        "!grep \"Steak Burrito\" data.tsv | wc -l\n",
        "!echo \"Chicken Burrito:\"\n",
        "!grep \"Chicken Burrito\" data.tsv | wc -l"
      ],
      "metadata": {
        "colab": {
          "base_uri": "https://localhost:8080/"
        },
        "id": "gYB1iKLLVf5V",
        "outputId": "59d56ceb-3ea1-40e8-f88c-ce0a8e6e4740"
      },
      "execution_count": 4,
      "outputs": [
        {
          "output_type": "stream",
          "name": "stdout",
          "text": [
            "Steak Burrito:\n",
            "368\n",
            "Chicken Burrito:\n",
            "553\n"
          ]
        }
      ]
    },
    {
      "cell_type": "markdown",
      "source": [
        "5.¿Los burritos de pollo suelen tener frijoles negros o frijoles pintos?"
      ],
      "metadata": {
        "id": "hlCb2BhDVmR6"
      }
    },
    {
      "cell_type": "code",
      "source": [
        "!echo \"Black Beans:\"\n",
        "!grep \"Chicken Burrito\" data.tsv | grep \"Black Beans\" | wc -l\n",
        "!echo \"Pinto Beans:\"\n",
        "!grep \"Chicken Burrito\" data.tsv | grep \"Pinto Beans\" | wc -l"
      ],
      "metadata": {
        "colab": {
          "base_uri": "https://localhost:8080/"
        },
        "id": "mgMJuRC4VtSP",
        "outputId": "a56eb03d-0a2e-4808-84d1-37d643e62b88"
      },
      "execution_count": 5,
      "outputs": [
        {
          "output_type": "stream",
          "name": "stdout",
          "text": [
            "Black Beans:\n",
            "282\n",
            "Pinto Beans:\n",
            "105\n"
          ]
        }
      ]
    },
    {
      "cell_type": "markdown",
      "source": [
        "6.Usa la línea de comandos para descubrir algo interesante sobre los datos dados."
      ],
      "metadata": {
        "id": "EhVxGVCzVyH9"
      }
    },
    {
      "cell_type": "code",
      "source": [],
      "metadata": {
        "id": "loKDOvbTV62K"
      },
      "execution_count": null,
      "outputs": []
    }
  ]
}